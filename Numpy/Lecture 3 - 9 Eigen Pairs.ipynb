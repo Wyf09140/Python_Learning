{
 "cells": [
  {
   "cell_type": "markdown",
   "metadata": {},
   "source": [
    "<div class=\"alert alert-block alert-info\">\n",
    "    <b><p style=\"font-size: XX-large\"><font color = \"royalblue\">Eigenvalues & Eigenvectors</font></p></b>"
   ]
  },
  {
   "cell_type": "markdown",
   "metadata": {},
   "source": [
    "<img src = \"Pics/eigmon.png\">\n",
    "<a href = \"http://wiki.pathmind.com/eigenvector\">image source</a>"
   ]
  },
  {
   "cell_type": "markdown",
   "metadata": {},
   "source": [
    "# <font color = \"royalblue\">Applications:</font>\n",
    "\n",
    "Eigenvalues and eigenvectors are crucial tools in **linear algebra**, especially in data science and machine learning. Let's break it down:\n",
    "\n",
    "1. **Linear transformations and matrices**: When you apply a linear transformation (such as rotation or scaling) to data, eigenvalues and eigenvectors help describe how the transformation affects the data. Eigenvectors indicate the directions in which the transformation stretches or shrinks the data, while eigenvalues describe how much it stretches or shrinks in those directions.\n",
    "\n",
    "---\n",
    "2. Applications in machine learning: These concepts are widely used in tasks like:\n",
    "\n",
    "    * **Feature extraction**: Identifying the most informative parts of the data.\n",
    "    * **Dimensionality reduction**: Simplifying data by reducing the number of variables while retaining its essential structure.\n",
    "    * **Clustering**: Grouping similar data points based on patterns captured through eigenvectors.\n",
    "    \n",
    "    \n",
    "    ---\n",
    "3. **Principal Component Analysis (PCA)**: Eigenvalues and eigenvectors are central to PCA, which reduces the dimensionality of data by transforming it into a set of uncorrelated variables (called principal components). These components capture the most variance in the data, with the highest eigenvalues representing the most significant directions. This reduction results in simpler models that are easier to compute and tend to generalize better to new data.\n",
    "\n",
    "In short, eigenvalues and eigenvectors allow us to analyze and manipulate data efficiently by focusing on the most significant features and patterns.  \n",
    "\n",
    "<a href = \"https://vitalflux.com/why-when-use-eigenvalue-eigenvector/#:~:text=Eigenvalues%20and%20eigenvectors%20can%20be,represented%20by%20the%20corresponding%20eigenvalue.\"> Nice article explaining why we use eigenvectors</a>"
   ]
  },
  {
   "cell_type": "markdown",
   "metadata": {},
   "source": [
    "---"
   ]
  },
  {
   "cell_type": "markdown",
   "metadata": {},
   "source": [
    "# <font color = \"royalblue\">Definition</font>\n",
    "\n",
    "* **Eigenvectors** are the vectors that when multiplied by a matrix result in another vector having the same direction but scaled in (forward or reverse) direction by a magnitude of the scaler multiple which can be termed as **Eigenvalue**."
   ]
  },
  {
   "cell_type": "markdown",
   "metadata": {},
   "source": [
    "<img src = \"Pics/eigen.png\">\n",
    "<a href = \"https://www.mathsisfun.com/algebra/eigenvalue.html\">Image Source</a>"
   ]
  },
  {
   "cell_type": "markdown",
   "metadata": {},
   "source": [
    "* Intuitively, this definition means that multiplying $A$ by the vector $X \\neq 0$ results in a new vector that points in the same direction as $X$ , but scaled by a factor $\\lambda$"
   ]
  },
  {
   "cell_type": "markdown",
   "metadata": {},
   "source": [
    "<img src = \"Pics/eigen2.png\">"
   ]
  },
  {
   "cell_type": "markdown",
   "metadata": {},
   "source": [
    "# <font color = \"royalblue\">Calculation</font>\n",
    "\n",
    "<img src = \"Pics/eigen6.png\"  width = \"400\">"
   ]
  },
  {
   "cell_type": "markdown",
   "metadata": {},
   "source": [
    "# <font color = \"royalblue\">Example</font>\n",
    "\n",
    "<img src = \"Pics/eigen5.png\" width = \"500\">"
   ]
  },
  {
   "cell_type": "markdown",
   "metadata": {},
   "source": [
    "# <font color = \"royalblue\">In Python</font>\n"
   ]
  },
  {
   "cell_type": "markdown",
   "metadata": {},
   "source": [
    "* **`np.linalg.eig(A)`** computes the eigenvalues and eigenvectors of a Matrix $A$"
   ]
  },
  {
   "cell_type": "code",
   "execution_count": 5,
   "metadata": {},
   "outputs": [],
   "source": [
    "import numpy as np"
   ]
  },
  {
   "cell_type": "code",
   "execution_count": 6,
   "metadata": {},
   "outputs": [
    {
     "name": "stdout",
     "output_type": "stream",
     "text": [
      "[[1 4]\n",
      " [3 2]]\n"
     ]
    }
   ],
   "source": [
    "A = np.array([[1,4],[3,2]])\n",
    "print(A)"
   ]
  },
  {
   "cell_type": "code",
   "execution_count": 7,
   "metadata": {},
   "outputs": [],
   "source": [
    "eigen_vals, eigen_vect = np.linalg.eig(A)"
   ]
  },
  {
   "cell_type": "code",
   "execution_count": 8,
   "metadata": {},
   "outputs": [
    {
     "data": {
      "text/plain": [
       "array([-2.,  5.])"
      ]
     },
     "execution_count": 8,
     "metadata": {},
     "output_type": "execute_result"
    }
   ],
   "source": [
    "eigen_vals"
   ]
  },
  {
   "cell_type": "code",
   "execution_count": 9,
   "metadata": {},
   "outputs": [
    {
     "data": {
      "text/plain": [
       "array([[-0.8       , -0.70710678],\n",
       "       [ 0.6       , -0.70710678]])"
      ]
     },
     "execution_count": 9,
     "metadata": {},
     "output_type": "execute_result"
    }
   ],
   "source": [
    "eigen_vect"
   ]
  },
  {
   "cell_type": "code",
   "execution_count": null,
   "metadata": {},
   "outputs": [],
   "source": []
  },
  {
   "cell_type": "markdown",
   "metadata": {},
   "source": [
    "---"
   ]
  },
  {
   "cell_type": "markdown",
   "metadata": {},
   "source": [
    "# Exercise:"
   ]
  },
  {
   "cell_type": "markdown",
   "metadata": {},
   "source": [
    "1.  Create the following matrix:\n",
    "    <img src = \"Pics/met.jpg\">"
   ]
  },
  {
   "cell_type": "markdown",
   "metadata": {},
   "source": [
    "2.  Find the transpose matrix of $A$\n",
    "3. Compute the rank of $A$ (rank is the number of linearly independent rows - search on the linear algebra library)\n",
    "4. Compute the determinant of $A$\n",
    "5. Compute the inverse of $A$\n",
    "6. Compute the eigenvalues and eigenvectors of $A$\n"
   ]
  },
  {
   "cell_type": "markdown",
   "metadata": {},
   "source": [
    "# Solutions"
   ]
  },
  {
   "cell_type": "code",
   "execution_count": null,
   "metadata": {},
   "outputs": [],
   "source": [
    "# 1\n",
    "\n",
    "import numpy as np\n",
    "A = np.array([[1, 2, 3], \n",
    "              [0, 1, 4], \n",
    "              [ 5, 6, 0]])\n",
    "print (A)"
   ]
  },
  {
   "cell_type": "code",
   "execution_count": null,
   "metadata": {},
   "outputs": [],
   "source": [
    "# 2\n",
    "\n",
    "A.T"
   ]
  },
  {
   "cell_type": "code",
   "execution_count": null,
   "metadata": {},
   "outputs": [],
   "source": [
    "# 3\n",
    "# Source: <a href = \"https://numpy.org/doc/stable/reference/generated/numpy.linalg.matrix_rank.html\"> Source</a>\n",
    "\n",
    "np.linalg.matrix_rank(A)"
   ]
  },
  {
   "cell_type": "code",
   "execution_count": null,
   "metadata": {},
   "outputs": [],
   "source": [
    "# 4\n",
    "\n",
    "np.linalg.inv(A)"
   ]
  },
  {
   "cell_type": "code",
   "execution_count": null,
   "metadata": {},
   "outputs": [],
   "source": [
    "# 5\n",
    "\n",
    "eigen_vals, eigen_vecs = np.linalg.eig(A)"
   ]
  },
  {
   "cell_type": "code",
   "execution_count": null,
   "metadata": {},
   "outputs": [],
   "source": [
    "eigen_vals"
   ]
  },
  {
   "cell_type": "code",
   "execution_count": null,
   "metadata": {},
   "outputs": [],
   "source": [
    "eigen_vecs"
   ]
  },
  {
   "cell_type": "markdown",
   "metadata": {},
   "source": [
    "---"
   ]
  },
  {
   "cell_type": "markdown",
   "metadata": {},
   "source": [
    "# Done!"
   ]
  },
  {
   "cell_type": "code",
   "execution_count": null,
   "metadata": {},
   "outputs": [],
   "source": []
  }
 ],
 "metadata": {
  "kernelspec": {
   "display_name": "Python 3 (ipykernel)",
   "language": "python",
   "name": "python3"
  },
  "language_info": {
   "codemirror_mode": {
    "name": "ipython",
    "version": 3
   },
   "file_extension": ".py",
   "mimetype": "text/x-python",
   "name": "python",
   "nbconvert_exporter": "python",
   "pygments_lexer": "ipython3",
   "version": "3.11.5"
  },
  "toc": {
   "base_numbering": 1,
   "nav_menu": {},
   "number_sections": true,
   "sideBar": true,
   "skip_h1_title": true,
   "title_cell": "Table of Contents",
   "title_sidebar": "Contents",
   "toc_cell": false,
   "toc_position": {},
   "toc_section_display": true,
   "toc_window_display": false
  }
 },
 "nbformat": 4,
 "nbformat_minor": 1
}
